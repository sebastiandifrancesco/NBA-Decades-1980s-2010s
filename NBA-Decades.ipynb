{
 "cells": [
  {
   "cell_type": "code",
   "execution_count": null,
   "id": "3f1eea4b",
   "metadata": {},
   "outputs": [],
   "source": [
    "import pandas as pd\n",
    "import numpy as np\n",
    "\n",
    "import requests  \n",
    "from bs4 import BeautifulSoup\n",
    "import selenium\n",
    "from selenium import webdriver\n",
    "from selenium.webdriver.common.keys import Keys\n",
    "\n",
    "# Required for bs4\n",
    "def getdata(url):  \n",
    "    r = requests.get(url)  \n",
    "    return r.text\n",
    "\n",
    "def scrapeData()\n",
    "    driver = webdriver.Chrome()\n",
    "    driver.get(\"https://www.basketball-reference.com/leagues/\")\n",
    "    \n",
    "    bing "
   ]
  }
 ],
 "metadata": {
  "kernelspec": {
   "display_name": "Python 3",
   "language": "python",
   "name": "python3"
  },
  "language_info": {
   "codemirror_mode": {
    "name": "ipython",
    "version": 3
   },
   "file_extension": ".py",
   "mimetype": "text/x-python",
   "name": "python",
   "nbconvert_exporter": "python",
   "pygments_lexer": "ipython3",
   "version": "3.9.5"
  }
 },
 "nbformat": 4,
 "nbformat_minor": 5
}
